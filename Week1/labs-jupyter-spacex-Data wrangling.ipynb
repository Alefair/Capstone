{
 "cells": [
  {
   "cell_type": "code",
   "execution_count": 1,
   "metadata": {
    "hide_input": true
   },
   "outputs": [],
   "source": [
    "def color_nan_red(val):\n",
    "    import pandas as pd\n",
    "    \n",
    "    general_style = 'font-weight:bold;text-transform: capitalize;'\n",
    "    \n",
    "    return [\n",
    "        general_style + 'color: red;' if pd.isna(v) else general_style + 'color: #ff9800;' if v == 'unknown' else '' for v in val]\n",
    "\n",
    "def color_sea_war(val):\n",
    "    return ['color: white;text-align:center !important;' if v == 0 else 'color: rgba(0, 0, 0, 0);background: rgba(0, 78, 145, 0.8);text-align:center !important;'\n",
    "                for v in val]\n",
    "\n",
    "def check_float(val,format='default'):\n",
    "    if 'float' in str(type(val)):\n",
    "        if format == 'default':\n",
    "            return val\n",
    "        else:\n",
    "            return format.format(val)\n",
    "    else:\n",
    "        return val\n",
    "    \n",
    "def render(df, format='default', border='false'):\n",
    "    \n",
    "    border_style = ''\n",
    "    \n",
    "    if border == 'display' or border == 'd':\n",
    "        border_style = ' border_display'\n",
    "    elif border == 'horizont' or border == 'h':\n",
    "        border_style = ' border_horizont'\n",
    "    elif border == 'vertical' or border == 'v':\n",
    "        border_style = ' border_vertical'\n",
    "    else:\n",
    "        border_style = ''\n",
    "    \n",
    "    if 'Series' in str(type(df)): df = df.to_frame()\n",
    "        \n",
    "    render_df = df.copy()\n",
    "    render_df = render_df.style.set_table_attributes('class=\"table_border' + border_style + '\"').apply(color_nan_red)\n",
    "    if format != 'default':\n",
    "        render_df = render_df.format(lambda x: check_float(x,format))\n",
    "    \n",
    "    return render_df"
   ]
  },
  {
   "cell_type": "code",
   "execution_count": 2,
   "metadata": {
    "hide_input": true
   },
   "outputs": [
    {
     "data": {
      "text/html": [
       "<style> \n",
       "    table {float: left;}\n",
       "    table td, table th, table tr {\n",
       "        text-align:left !important;\n",
       "    }\n",
       "    \n",
       "    .menu_table thead,\n",
       "    .menu_table tbody,\n",
       "    .menu_table tr\n",
       "    {\n",
       "        border: none !important;\n",
       "        background: none !important;\n",
       "        cursor: default;\n",
       "    }\n",
       "    \n",
       "    .menu_table thead {\n",
       "        display: none;\n",
       "    }\n",
       "    \n",
       "    .clearfix {\n",
       "        clear: both;\n",
       "    }\n",
       "    \n",
       "    .table_border {\n",
       "        border-radius: 13px;\n",
       "        border: 1px solid #ccc !important;\n",
       "        margin: 5px;\n",
       "        padding: 5px;\n",
       "        display: inline-block;\n",
       "        cursor: default;\n",
       "        box-shadow: 5px 4px 5px 1px rgba(0, 0, 0, 0.07);\n",
       "    }\n",
       "    \n",
       "    .table_border table, \n",
       "    {\n",
       "        border-collapse: separate;\n",
       "    }\n",
       "    \n",
       "    .table_border thead,\n",
       "    .table_border thead tr,\n",
       "    .table_border thead th\n",
       "    {\n",
       "        text-align: center !important;\n",
       "        color: #03a9f4;\n",
       "    }\n",
       "    \n",
       "    \n",
       "    .table_border thead th\n",
       "    {\n",
       "        border-right: 1px solid;\n",
       "    }\n",
       "    \n",
       "    .table_border thead th:last-child\n",
       "    {\n",
       "        border-right: none;\n",
       "    }\n",
       "    \n",
       "    .table_border thead\n",
       "    {\n",
       "        display: table-caption;\n",
       "        border: none !important;\n",
       "    }\n",
       "    \n",
       "    .table_border tbody\n",
       "    {\n",
       "        border: none !important;\n",
       "        display: table-cell;\n",
       "    }\n",
       "    \n",
       "    .table_border thead tr\n",
       "    {\n",
       "        background: rgba(66, 165, 245, 0.2) !important;\n",
       "        border: 1px solid #b2ebf2 !important;\n",
       "        display: block;\n",
       "        border-radius: 10px 10px 0px 0px;\n",
       "        padding: 1px;\n",
       "    }\n",
       "    \n",
       "    .table_border tbody tr\n",
       "    {\n",
       "        background: none !important;\n",
       "    }\n",
       "    \n",
       "    .table_border tbody tr:hover\n",
       "    {\n",
       "        background: rgba(66, 165, 245, 0.2) !important;\n",
       "    }\n",
       "    \n",
       "    .table_border tbody td:hover\n",
       "    {\n",
       "        font-weight: bold;\n",
       "        color: #03a9f4;\n",
       "    }\n",
       "    \n",
       "    .table_border tbody tr:last-child:hover\n",
       "    {\n",
       "        border-radius: 0px 0px 10px 10px;\n",
       "        display: block;\n",
       "        padding: 0px;\n",
       "        background: antiquewhite !important;\n",
       "    }\n",
       "    \n",
       "    .table_border th, \n",
       "    .table_border td\n",
       "    {\n",
       "        width: 250px !important;\n",
       "        word-break: break-word;\n",
       "    }\n",
       "    \n",
       "    \n",
       "    .sea_war th,\n",
       "    .sea_war td\n",
       "    {\n",
       "        width: 26px !important;\n",
       "    }\n",
       "    \n",
       "    .sea_war tbody th,\n",
       "    .sea_war tbody td\n",
       "    {\n",
       "        border: 1px solid rgba(0,0,0,0.1);\n",
       "    }\n",
       "    \n",
       "    .sea_war tbody th\n",
       "    {\n",
       "        color: rgba(0,0,0,0.5);\n",
       "        text-align: center !important;\n",
       "    }\n",
       "    \n",
       "    /*---------------Borders------------------------*/\n",
       "    \n",
       "    /* border_horizont  */\n",
       "    .border_horizont tbody th, \n",
       "    .border_horizont tbody td\n",
       "    {\n",
       "        border-bottom: 1px solid rgba(0,0,0,0.04);\n",
       "    }\n",
       "    \n",
       "    .border_horizont tbody tr:last-child th, \n",
       "    .border_horizont tbody tr:last-child td\n",
       "    {\n",
       "        border-bottom: none;\n",
       "    }\n",
       "    \n",
       "    /* border_vertical  */\n",
       "    .border_vertical tbody th, \n",
       "    .border_vertical tbody td\n",
       "    {\n",
       "        border-right: 1px solid rgba(0,0,0,0.04);\n",
       "    }\n",
       "     \n",
       "    .border_vertical tbody td:last-child\n",
       "    {\n",
       "        border-right: none;\n",
       "    }\n",
       "    \n",
       "    /* border_display  */\n",
       "    .border_display tbody th, \n",
       "    .border_display tbody td\n",
       "    {\n",
       "        border: 1px solid rgba(0,0,0,0.04);\n",
       "    }\n",
       "    .border_display tbody th,\n",
       "    .border_display tbody td\n",
       "    {\n",
       "        border-left: none;\n",
       "        border-top: none;\n",
       "    }\n",
       "    .border_display tbody td:last-child\n",
       "    {\n",
       "       border-right: none; \n",
       "    }\n",
       "    .border_display tbody tr:last-child th,\n",
       "    .border_display tbody tr:last-child td \n",
       "    {\n",
       "        border-bottom: none;\n",
       "    }\n",
       "</style>\n"
      ],
      "text/plain": [
       "<IPython.core.display.HTML object>"
      ]
     },
     "metadata": {},
     "output_type": "display_data"
    }
   ],
   "source": [
    "%%html\n",
    "<style> \n",
    "    table {float: left;}\n",
    "    table td, table th, table tr {\n",
    "        text-align:left !important;\n",
    "    }\n",
    "    \n",
    "    .menu_table thead,\n",
    "    .menu_table tbody,\n",
    "    .menu_table tr\n",
    "    {\n",
    "        border: none !important;\n",
    "        background: none !important;\n",
    "        cursor: default;\n",
    "    }\n",
    "    \n",
    "    .menu_table thead {\n",
    "        display: none;\n",
    "    }\n",
    "    \n",
    "    .clearfix {\n",
    "        clear: both;\n",
    "    }\n",
    "    \n",
    "    .table_border {\n",
    "        border-radius: 13px;\n",
    "        border: 1px solid #ccc !important;\n",
    "        margin: 5px;\n",
    "        padding: 5px;\n",
    "        display: inline-block;\n",
    "        cursor: default;\n",
    "        box-shadow: 5px 4px 5px 1px rgba(0, 0, 0, 0.07);\n",
    "    }\n",
    "    \n",
    "    .table_border table, \n",
    "    {\n",
    "        border-collapse: separate;\n",
    "    }\n",
    "    \n",
    "    .table_border thead,\n",
    "    .table_border thead tr,\n",
    "    .table_border thead th\n",
    "    {\n",
    "        text-align: center !important;\n",
    "        color: #03a9f4;\n",
    "    }\n",
    "    \n",
    "    \n",
    "    .table_border thead th\n",
    "    {\n",
    "        border-right: 1px solid;\n",
    "    }\n",
    "    \n",
    "    .table_border thead th:last-child\n",
    "    {\n",
    "        border-right: none;\n",
    "    }\n",
    "    \n",
    "    .table_border thead\n",
    "    {\n",
    "        display: table-caption;\n",
    "        border: none !important;\n",
    "    }\n",
    "    \n",
    "    .table_border tbody\n",
    "    {\n",
    "        border: none !important;\n",
    "        display: table-cell;\n",
    "    }\n",
    "    \n",
    "    .table_border thead tr\n",
    "    {\n",
    "        background: rgba(66, 165, 245, 0.2) !important;\n",
    "        border: 1px solid #b2ebf2 !important;\n",
    "        display: block;\n",
    "        border-radius: 10px 10px 0px 0px;\n",
    "        padding: 1px;\n",
    "    }\n",
    "    \n",
    "    .table_border tbody tr\n",
    "    {\n",
    "        background: none !important;\n",
    "    }\n",
    "    \n",
    "    .table_border tbody tr:hover\n",
    "    {\n",
    "        background: rgba(66, 165, 245, 0.2) !important;\n",
    "    }\n",
    "    \n",
    "    .table_border tbody td:hover\n",
    "    {\n",
    "        font-weight: bold;\n",
    "        color: #03a9f4;\n",
    "    }\n",
    "    \n",
    "    .table_border tbody tr:last-child:hover\n",
    "    {\n",
    "        border-radius: 0px 0px 10px 10px;\n",
    "        display: block;\n",
    "        padding: 0px;\n",
    "        background: antiquewhite !important;\n",
    "    }\n",
    "    \n",
    "    .table_border th, \n",
    "    .table_border td\n",
    "    {\n",
    "        width: 250px !important;\n",
    "        word-break: break-word;\n",
    "    }\n",
    "    \n",
    "    \n",
    "    .sea_war th,\n",
    "    .sea_war td\n",
    "    {\n",
    "        width: 26px !important;\n",
    "    }\n",
    "    \n",
    "    .sea_war tbody th,\n",
    "    .sea_war tbody td\n",
    "    {\n",
    "        border: 1px solid rgba(0,0,0,0.1);\n",
    "    }\n",
    "    \n",
    "    .sea_war tbody th\n",
    "    {\n",
    "        color: rgba(0,0,0,0.5);\n",
    "        text-align: center !important;\n",
    "    }\n",
    "    \n",
    "    /*---------------Borders------------------------*/\n",
    "    \n",
    "    /* border_horizont  */\n",
    "    .border_horizont tbody th, \n",
    "    .border_horizont tbody td\n",
    "    {\n",
    "        border-bottom: 1px solid rgba(0,0,0,0.04);\n",
    "    }\n",
    "    \n",
    "    .border_horizont tbody tr:last-child th, \n",
    "    .border_horizont tbody tr:last-child td\n",
    "    {\n",
    "        border-bottom: none;\n",
    "    }\n",
    "    \n",
    "    /* border_vertical  */\n",
    "    .border_vertical tbody th, \n",
    "    .border_vertical tbody td\n",
    "    {\n",
    "        border-right: 1px solid rgba(0,0,0,0.04);\n",
    "    }\n",
    "     \n",
    "    .border_vertical tbody td:last-child\n",
    "    {\n",
    "        border-right: none;\n",
    "    }\n",
    "    \n",
    "    /* border_display  */\n",
    "    .border_display tbody th, \n",
    "    .border_display tbody td\n",
    "    {\n",
    "        border: 1px solid rgba(0,0,0,0.04);\n",
    "    }\n",
    "    .border_display tbody th,\n",
    "    .border_display tbody td\n",
    "    {\n",
    "        border-left: none;\n",
    "        border-top: none;\n",
    "    }\n",
    "    .border_display tbody td:last-child\n",
    "    {\n",
    "       border-right: none; \n",
    "    }\n",
    "    .border_display tbody tr:last-child th,\n",
    "    .border_display tbody tr:last-child td \n",
    "    {\n",
    "        border-bottom: none;\n",
    "    }\n",
    "</style>"
   ]
  },
  {
   "cell_type": "markdown",
   "metadata": {},
   "source": [
    "<center>\n",
    "    <img src=\"https://gitlab.com/ibm/skills-network/courses/placeholder101/-/raw/master/labs/module%201/images/IDSNlogo.png\" width=\"300\" alt=\"cognitiveclass.ai logo\"  />\n",
    "</center>\n"
   ]
  },
  {
   "cell_type": "markdown",
   "metadata": {},
   "source": [
    "# **Space X  Falcon 9 First Stage Landing Prediction**\n"
   ]
  },
  {
   "cell_type": "markdown",
   "metadata": {},
   "source": [
    "## Lab 2: Data wrangling\n"
   ]
  },
  {
   "cell_type": "markdown",
   "metadata": {},
   "source": [
    "Estimated time needed: **60** minutes\n"
   ]
  },
  {
   "cell_type": "markdown",
   "metadata": {},
   "source": [
    "In this lab, we will perform some Exploratory Data Analysis (EDA) to find some patterns in the data and determine what would be the label for training supervised models.\n",
    "\n",
    "In the data set, there are several different cases where the booster did not land successfully. Sometimes a landing was attempted but failed due to an accident; for example, <code>True Ocean</code> means the mission outcome was successfully  landed to a specific region of the ocean while <code>False Ocean</code> means the mission outcome was unsuccessfully landed to a specific region of the ocean. <code>True RTLS</code> means the mission outcome was successfully  landed to a ground pad <code>False RTLS</code> means the mission outcome was unsuccessfully landed to a ground pad.<code>True ASDS</code> means the mission outcome was successfully landed on  a drone ship <code>False ASDS</code> means the mission outcome was unsuccessfully landed on a drone ship.\n",
    "\n",
    "In this lab we will mainly convert those outcomes into Training Labels with `1` means the booster successfully landed `0` means it was unsuccessful.\n"
   ]
  },
  {
   "cell_type": "markdown",
   "metadata": {},
   "source": [
    "Falcon 9 first stage will land successfully\n"
   ]
  },
  {
   "cell_type": "markdown",
   "metadata": {},
   "source": [
    "![](https://cf-courses-data.s3.us.cloud-object-storage.appdomain.cloud/IBMDeveloperSkillsNetwork-DS0701EN-SkillsNetwork/api/Images/landing\\_1.gif)\n"
   ]
  },
  {
   "cell_type": "markdown",
   "metadata": {},
   "source": [
    "Several examples of an unsuccessful landing are shown here:\n"
   ]
  },
  {
   "cell_type": "markdown",
   "metadata": {},
   "source": [
    "![](https://cf-courses-data.s3.us.cloud-object-storage.appdomain.cloud/IBMDeveloperSkillsNetwork-DS0701EN-SkillsNetwork/api/Images/crash.gif)\n"
   ]
  },
  {
   "cell_type": "markdown",
   "metadata": {},
   "source": []
  },
  {
   "cell_type": "markdown",
   "metadata": {},
   "source": [
    "## Objectives\n",
    "\n",
    "Perform exploratory  Data Analysis and determine Training Labels\n",
    "\n",
    "*   Exploratory Data Analysis\n",
    "*   Determine Training Labels\n"
   ]
  },
  {
   "cell_type": "markdown",
   "metadata": {},
   "source": [
    "***\n"
   ]
  },
  {
   "cell_type": "markdown",
   "metadata": {},
   "source": [
    "## Import Libraries and Define Auxiliary Functions\n"
   ]
  },
  {
   "cell_type": "markdown",
   "metadata": {},
   "source": [
    "We will import the following libraries.\n"
   ]
  },
  {
   "cell_type": "code",
   "execution_count": 3,
   "metadata": {},
   "outputs": [],
   "source": [
    "# Pandas is a software library written for the Python programming language for data manipulation and analysis.\n",
    "import pandas as pd\n",
    "#NumPy is a library for the Python programming language, adding support for large, multi-dimensional arrays and matrices, along with a large collection of high-level mathematical functions to operate on these arrays\n",
    "import numpy as np"
   ]
  },
  {
   "cell_type": "markdown",
   "metadata": {},
   "source": [
    "### Data Analysis\n"
   ]
  },
  {
   "cell_type": "markdown",
   "metadata": {},
   "source": [
    "Load Space X dataset, from last section.\n"
   ]
  },
  {
   "cell_type": "code",
   "execution_count": 4,
   "metadata": {},
   "outputs": [
    {
     "data": {
      "text/html": [
       "<style type=\"text/css\">\n",
       "#T_a52fb_row0_col11, #T_a52fb_row1_col11, #T_a52fb_row2_col11, #T_a52fb_row3_col11, #T_a52fb_row4_col11, #T_a52fb_row5_col11, #T_a52fb_row6_col11, #T_a52fb_row7_col11, #T_a52fb_row8_col11, #T_a52fb_row9_col11 {\n",
       "  font-weight: bold;\n",
       "  text-transform: capitalize;\n",
       "  color: red;\n",
       "}\n",
       "</style>\n",
       "<table id=\"T_a52fb_\" class=\"table_border\">\n",
       "  <thead>\n",
       "    <tr>\n",
       "      <th class=\"blank level0\" >&nbsp;</th>\n",
       "      <th class=\"col_heading level0 col0\" >FlightNumber</th>\n",
       "      <th class=\"col_heading level0 col1\" >Date</th>\n",
       "      <th class=\"col_heading level0 col2\" >BoosterVersion</th>\n",
       "      <th class=\"col_heading level0 col3\" >PayloadMass</th>\n",
       "      <th class=\"col_heading level0 col4\" >Orbit</th>\n",
       "      <th class=\"col_heading level0 col5\" >LaunchSite</th>\n",
       "      <th class=\"col_heading level0 col6\" >Outcome</th>\n",
       "      <th class=\"col_heading level0 col7\" >Flights</th>\n",
       "      <th class=\"col_heading level0 col8\" >GridFins</th>\n",
       "      <th class=\"col_heading level0 col9\" >Reused</th>\n",
       "      <th class=\"col_heading level0 col10\" >Legs</th>\n",
       "      <th class=\"col_heading level0 col11\" >LandingPad</th>\n",
       "      <th class=\"col_heading level0 col12\" >Block</th>\n",
       "      <th class=\"col_heading level0 col13\" >ReusedCount</th>\n",
       "      <th class=\"col_heading level0 col14\" >Serial</th>\n",
       "      <th class=\"col_heading level0 col15\" >Longitude</th>\n",
       "      <th class=\"col_heading level0 col16\" >Latitude</th>\n",
       "    </tr>\n",
       "  </thead>\n",
       "  <tbody>\n",
       "    <tr>\n",
       "      <th id=\"T_a52fb_level0_row0\" class=\"row_heading level0 row0\" >0</th>\n",
       "      <td id=\"T_a52fb_row0_col0\" class=\"data row0 col0\" >1</td>\n",
       "      <td id=\"T_a52fb_row0_col1\" class=\"data row0 col1\" >2010-06-04</td>\n",
       "      <td id=\"T_a52fb_row0_col2\" class=\"data row0 col2\" >Falcon 9</td>\n",
       "      <td id=\"T_a52fb_row0_col3\" class=\"data row0 col3\" >6104.959412</td>\n",
       "      <td id=\"T_a52fb_row0_col4\" class=\"data row0 col4\" >LEO</td>\n",
       "      <td id=\"T_a52fb_row0_col5\" class=\"data row0 col5\" >CCAFS SLC 40</td>\n",
       "      <td id=\"T_a52fb_row0_col6\" class=\"data row0 col6\" >None None</td>\n",
       "      <td id=\"T_a52fb_row0_col7\" class=\"data row0 col7\" >1</td>\n",
       "      <td id=\"T_a52fb_row0_col8\" class=\"data row0 col8\" >False</td>\n",
       "      <td id=\"T_a52fb_row0_col9\" class=\"data row0 col9\" >False</td>\n",
       "      <td id=\"T_a52fb_row0_col10\" class=\"data row0 col10\" >False</td>\n",
       "      <td id=\"T_a52fb_row0_col11\" class=\"data row0 col11\" >nan</td>\n",
       "      <td id=\"T_a52fb_row0_col12\" class=\"data row0 col12\" >1.000000</td>\n",
       "      <td id=\"T_a52fb_row0_col13\" class=\"data row0 col13\" >0</td>\n",
       "      <td id=\"T_a52fb_row0_col14\" class=\"data row0 col14\" >B0003</td>\n",
       "      <td id=\"T_a52fb_row0_col15\" class=\"data row0 col15\" >-80.577366</td>\n",
       "      <td id=\"T_a52fb_row0_col16\" class=\"data row0 col16\" >28.561857</td>\n",
       "    </tr>\n",
       "    <tr>\n",
       "      <th id=\"T_a52fb_level0_row1\" class=\"row_heading level0 row1\" >1</th>\n",
       "      <td id=\"T_a52fb_row1_col0\" class=\"data row1 col0\" >2</td>\n",
       "      <td id=\"T_a52fb_row1_col1\" class=\"data row1 col1\" >2012-05-22</td>\n",
       "      <td id=\"T_a52fb_row1_col2\" class=\"data row1 col2\" >Falcon 9</td>\n",
       "      <td id=\"T_a52fb_row1_col3\" class=\"data row1 col3\" >525.000000</td>\n",
       "      <td id=\"T_a52fb_row1_col4\" class=\"data row1 col4\" >LEO</td>\n",
       "      <td id=\"T_a52fb_row1_col5\" class=\"data row1 col5\" >CCAFS SLC 40</td>\n",
       "      <td id=\"T_a52fb_row1_col6\" class=\"data row1 col6\" >None None</td>\n",
       "      <td id=\"T_a52fb_row1_col7\" class=\"data row1 col7\" >1</td>\n",
       "      <td id=\"T_a52fb_row1_col8\" class=\"data row1 col8\" >False</td>\n",
       "      <td id=\"T_a52fb_row1_col9\" class=\"data row1 col9\" >False</td>\n",
       "      <td id=\"T_a52fb_row1_col10\" class=\"data row1 col10\" >False</td>\n",
       "      <td id=\"T_a52fb_row1_col11\" class=\"data row1 col11\" >nan</td>\n",
       "      <td id=\"T_a52fb_row1_col12\" class=\"data row1 col12\" >1.000000</td>\n",
       "      <td id=\"T_a52fb_row1_col13\" class=\"data row1 col13\" >0</td>\n",
       "      <td id=\"T_a52fb_row1_col14\" class=\"data row1 col14\" >B0005</td>\n",
       "      <td id=\"T_a52fb_row1_col15\" class=\"data row1 col15\" >-80.577366</td>\n",
       "      <td id=\"T_a52fb_row1_col16\" class=\"data row1 col16\" >28.561857</td>\n",
       "    </tr>\n",
       "    <tr>\n",
       "      <th id=\"T_a52fb_level0_row2\" class=\"row_heading level0 row2\" >2</th>\n",
       "      <td id=\"T_a52fb_row2_col0\" class=\"data row2 col0\" >3</td>\n",
       "      <td id=\"T_a52fb_row2_col1\" class=\"data row2 col1\" >2013-03-01</td>\n",
       "      <td id=\"T_a52fb_row2_col2\" class=\"data row2 col2\" >Falcon 9</td>\n",
       "      <td id=\"T_a52fb_row2_col3\" class=\"data row2 col3\" >677.000000</td>\n",
       "      <td id=\"T_a52fb_row2_col4\" class=\"data row2 col4\" >ISS</td>\n",
       "      <td id=\"T_a52fb_row2_col5\" class=\"data row2 col5\" >CCAFS SLC 40</td>\n",
       "      <td id=\"T_a52fb_row2_col6\" class=\"data row2 col6\" >None None</td>\n",
       "      <td id=\"T_a52fb_row2_col7\" class=\"data row2 col7\" >1</td>\n",
       "      <td id=\"T_a52fb_row2_col8\" class=\"data row2 col8\" >False</td>\n",
       "      <td id=\"T_a52fb_row2_col9\" class=\"data row2 col9\" >False</td>\n",
       "      <td id=\"T_a52fb_row2_col10\" class=\"data row2 col10\" >False</td>\n",
       "      <td id=\"T_a52fb_row2_col11\" class=\"data row2 col11\" >nan</td>\n",
       "      <td id=\"T_a52fb_row2_col12\" class=\"data row2 col12\" >1.000000</td>\n",
       "      <td id=\"T_a52fb_row2_col13\" class=\"data row2 col13\" >0</td>\n",
       "      <td id=\"T_a52fb_row2_col14\" class=\"data row2 col14\" >B0007</td>\n",
       "      <td id=\"T_a52fb_row2_col15\" class=\"data row2 col15\" >-80.577366</td>\n",
       "      <td id=\"T_a52fb_row2_col16\" class=\"data row2 col16\" >28.561857</td>\n",
       "    </tr>\n",
       "    <tr>\n",
       "      <th id=\"T_a52fb_level0_row3\" class=\"row_heading level0 row3\" >3</th>\n",
       "      <td id=\"T_a52fb_row3_col0\" class=\"data row3 col0\" >4</td>\n",
       "      <td id=\"T_a52fb_row3_col1\" class=\"data row3 col1\" >2013-09-29</td>\n",
       "      <td id=\"T_a52fb_row3_col2\" class=\"data row3 col2\" >Falcon 9</td>\n",
       "      <td id=\"T_a52fb_row3_col3\" class=\"data row3 col3\" >500.000000</td>\n",
       "      <td id=\"T_a52fb_row3_col4\" class=\"data row3 col4\" >PO</td>\n",
       "      <td id=\"T_a52fb_row3_col5\" class=\"data row3 col5\" >VAFB SLC 4E</td>\n",
       "      <td id=\"T_a52fb_row3_col6\" class=\"data row3 col6\" >False Ocean</td>\n",
       "      <td id=\"T_a52fb_row3_col7\" class=\"data row3 col7\" >1</td>\n",
       "      <td id=\"T_a52fb_row3_col8\" class=\"data row3 col8\" >False</td>\n",
       "      <td id=\"T_a52fb_row3_col9\" class=\"data row3 col9\" >False</td>\n",
       "      <td id=\"T_a52fb_row3_col10\" class=\"data row3 col10\" >False</td>\n",
       "      <td id=\"T_a52fb_row3_col11\" class=\"data row3 col11\" >nan</td>\n",
       "      <td id=\"T_a52fb_row3_col12\" class=\"data row3 col12\" >1.000000</td>\n",
       "      <td id=\"T_a52fb_row3_col13\" class=\"data row3 col13\" >0</td>\n",
       "      <td id=\"T_a52fb_row3_col14\" class=\"data row3 col14\" >B1003</td>\n",
       "      <td id=\"T_a52fb_row3_col15\" class=\"data row3 col15\" >-120.610829</td>\n",
       "      <td id=\"T_a52fb_row3_col16\" class=\"data row3 col16\" >34.632093</td>\n",
       "    </tr>\n",
       "    <tr>\n",
       "      <th id=\"T_a52fb_level0_row4\" class=\"row_heading level0 row4\" >4</th>\n",
       "      <td id=\"T_a52fb_row4_col0\" class=\"data row4 col0\" >5</td>\n",
       "      <td id=\"T_a52fb_row4_col1\" class=\"data row4 col1\" >2013-12-03</td>\n",
       "      <td id=\"T_a52fb_row4_col2\" class=\"data row4 col2\" >Falcon 9</td>\n",
       "      <td id=\"T_a52fb_row4_col3\" class=\"data row4 col3\" >3170.000000</td>\n",
       "      <td id=\"T_a52fb_row4_col4\" class=\"data row4 col4\" >GTO</td>\n",
       "      <td id=\"T_a52fb_row4_col5\" class=\"data row4 col5\" >CCAFS SLC 40</td>\n",
       "      <td id=\"T_a52fb_row4_col6\" class=\"data row4 col6\" >None None</td>\n",
       "      <td id=\"T_a52fb_row4_col7\" class=\"data row4 col7\" >1</td>\n",
       "      <td id=\"T_a52fb_row4_col8\" class=\"data row4 col8\" >False</td>\n",
       "      <td id=\"T_a52fb_row4_col9\" class=\"data row4 col9\" >False</td>\n",
       "      <td id=\"T_a52fb_row4_col10\" class=\"data row4 col10\" >False</td>\n",
       "      <td id=\"T_a52fb_row4_col11\" class=\"data row4 col11\" >nan</td>\n",
       "      <td id=\"T_a52fb_row4_col12\" class=\"data row4 col12\" >1.000000</td>\n",
       "      <td id=\"T_a52fb_row4_col13\" class=\"data row4 col13\" >0</td>\n",
       "      <td id=\"T_a52fb_row4_col14\" class=\"data row4 col14\" >B1004</td>\n",
       "      <td id=\"T_a52fb_row4_col15\" class=\"data row4 col15\" >-80.577366</td>\n",
       "      <td id=\"T_a52fb_row4_col16\" class=\"data row4 col16\" >28.561857</td>\n",
       "    </tr>\n",
       "    <tr>\n",
       "      <th id=\"T_a52fb_level0_row5\" class=\"row_heading level0 row5\" >5</th>\n",
       "      <td id=\"T_a52fb_row5_col0\" class=\"data row5 col0\" >6</td>\n",
       "      <td id=\"T_a52fb_row5_col1\" class=\"data row5 col1\" >2014-01-06</td>\n",
       "      <td id=\"T_a52fb_row5_col2\" class=\"data row5 col2\" >Falcon 9</td>\n",
       "      <td id=\"T_a52fb_row5_col3\" class=\"data row5 col3\" >3325.000000</td>\n",
       "      <td id=\"T_a52fb_row5_col4\" class=\"data row5 col4\" >GTO</td>\n",
       "      <td id=\"T_a52fb_row5_col5\" class=\"data row5 col5\" >CCAFS SLC 40</td>\n",
       "      <td id=\"T_a52fb_row5_col6\" class=\"data row5 col6\" >None None</td>\n",
       "      <td id=\"T_a52fb_row5_col7\" class=\"data row5 col7\" >1</td>\n",
       "      <td id=\"T_a52fb_row5_col8\" class=\"data row5 col8\" >False</td>\n",
       "      <td id=\"T_a52fb_row5_col9\" class=\"data row5 col9\" >False</td>\n",
       "      <td id=\"T_a52fb_row5_col10\" class=\"data row5 col10\" >False</td>\n",
       "      <td id=\"T_a52fb_row5_col11\" class=\"data row5 col11\" >nan</td>\n",
       "      <td id=\"T_a52fb_row5_col12\" class=\"data row5 col12\" >1.000000</td>\n",
       "      <td id=\"T_a52fb_row5_col13\" class=\"data row5 col13\" >0</td>\n",
       "      <td id=\"T_a52fb_row5_col14\" class=\"data row5 col14\" >B1005</td>\n",
       "      <td id=\"T_a52fb_row5_col15\" class=\"data row5 col15\" >-80.577366</td>\n",
       "      <td id=\"T_a52fb_row5_col16\" class=\"data row5 col16\" >28.561857</td>\n",
       "    </tr>\n",
       "    <tr>\n",
       "      <th id=\"T_a52fb_level0_row6\" class=\"row_heading level0 row6\" >6</th>\n",
       "      <td id=\"T_a52fb_row6_col0\" class=\"data row6 col0\" >7</td>\n",
       "      <td id=\"T_a52fb_row6_col1\" class=\"data row6 col1\" >2014-04-18</td>\n",
       "      <td id=\"T_a52fb_row6_col2\" class=\"data row6 col2\" >Falcon 9</td>\n",
       "      <td id=\"T_a52fb_row6_col3\" class=\"data row6 col3\" >2296.000000</td>\n",
       "      <td id=\"T_a52fb_row6_col4\" class=\"data row6 col4\" >ISS</td>\n",
       "      <td id=\"T_a52fb_row6_col5\" class=\"data row6 col5\" >CCAFS SLC 40</td>\n",
       "      <td id=\"T_a52fb_row6_col6\" class=\"data row6 col6\" >True Ocean</td>\n",
       "      <td id=\"T_a52fb_row6_col7\" class=\"data row6 col7\" >1</td>\n",
       "      <td id=\"T_a52fb_row6_col8\" class=\"data row6 col8\" >False</td>\n",
       "      <td id=\"T_a52fb_row6_col9\" class=\"data row6 col9\" >False</td>\n",
       "      <td id=\"T_a52fb_row6_col10\" class=\"data row6 col10\" >True</td>\n",
       "      <td id=\"T_a52fb_row6_col11\" class=\"data row6 col11\" >nan</td>\n",
       "      <td id=\"T_a52fb_row6_col12\" class=\"data row6 col12\" >1.000000</td>\n",
       "      <td id=\"T_a52fb_row6_col13\" class=\"data row6 col13\" >0</td>\n",
       "      <td id=\"T_a52fb_row6_col14\" class=\"data row6 col14\" >B1006</td>\n",
       "      <td id=\"T_a52fb_row6_col15\" class=\"data row6 col15\" >-80.577366</td>\n",
       "      <td id=\"T_a52fb_row6_col16\" class=\"data row6 col16\" >28.561857</td>\n",
       "    </tr>\n",
       "    <tr>\n",
       "      <th id=\"T_a52fb_level0_row7\" class=\"row_heading level0 row7\" >7</th>\n",
       "      <td id=\"T_a52fb_row7_col0\" class=\"data row7 col0\" >8</td>\n",
       "      <td id=\"T_a52fb_row7_col1\" class=\"data row7 col1\" >2014-07-14</td>\n",
       "      <td id=\"T_a52fb_row7_col2\" class=\"data row7 col2\" >Falcon 9</td>\n",
       "      <td id=\"T_a52fb_row7_col3\" class=\"data row7 col3\" >1316.000000</td>\n",
       "      <td id=\"T_a52fb_row7_col4\" class=\"data row7 col4\" >LEO</td>\n",
       "      <td id=\"T_a52fb_row7_col5\" class=\"data row7 col5\" >CCAFS SLC 40</td>\n",
       "      <td id=\"T_a52fb_row7_col6\" class=\"data row7 col6\" >True Ocean</td>\n",
       "      <td id=\"T_a52fb_row7_col7\" class=\"data row7 col7\" >1</td>\n",
       "      <td id=\"T_a52fb_row7_col8\" class=\"data row7 col8\" >False</td>\n",
       "      <td id=\"T_a52fb_row7_col9\" class=\"data row7 col9\" >False</td>\n",
       "      <td id=\"T_a52fb_row7_col10\" class=\"data row7 col10\" >True</td>\n",
       "      <td id=\"T_a52fb_row7_col11\" class=\"data row7 col11\" >nan</td>\n",
       "      <td id=\"T_a52fb_row7_col12\" class=\"data row7 col12\" >1.000000</td>\n",
       "      <td id=\"T_a52fb_row7_col13\" class=\"data row7 col13\" >0</td>\n",
       "      <td id=\"T_a52fb_row7_col14\" class=\"data row7 col14\" >B1007</td>\n",
       "      <td id=\"T_a52fb_row7_col15\" class=\"data row7 col15\" >-80.577366</td>\n",
       "      <td id=\"T_a52fb_row7_col16\" class=\"data row7 col16\" >28.561857</td>\n",
       "    </tr>\n",
       "    <tr>\n",
       "      <th id=\"T_a52fb_level0_row8\" class=\"row_heading level0 row8\" >8</th>\n",
       "      <td id=\"T_a52fb_row8_col0\" class=\"data row8 col0\" >9</td>\n",
       "      <td id=\"T_a52fb_row8_col1\" class=\"data row8 col1\" >2014-08-05</td>\n",
       "      <td id=\"T_a52fb_row8_col2\" class=\"data row8 col2\" >Falcon 9</td>\n",
       "      <td id=\"T_a52fb_row8_col3\" class=\"data row8 col3\" >4535.000000</td>\n",
       "      <td id=\"T_a52fb_row8_col4\" class=\"data row8 col4\" >GTO</td>\n",
       "      <td id=\"T_a52fb_row8_col5\" class=\"data row8 col5\" >CCAFS SLC 40</td>\n",
       "      <td id=\"T_a52fb_row8_col6\" class=\"data row8 col6\" >None None</td>\n",
       "      <td id=\"T_a52fb_row8_col7\" class=\"data row8 col7\" >1</td>\n",
       "      <td id=\"T_a52fb_row8_col8\" class=\"data row8 col8\" >False</td>\n",
       "      <td id=\"T_a52fb_row8_col9\" class=\"data row8 col9\" >False</td>\n",
       "      <td id=\"T_a52fb_row8_col10\" class=\"data row8 col10\" >False</td>\n",
       "      <td id=\"T_a52fb_row8_col11\" class=\"data row8 col11\" >nan</td>\n",
       "      <td id=\"T_a52fb_row8_col12\" class=\"data row8 col12\" >1.000000</td>\n",
       "      <td id=\"T_a52fb_row8_col13\" class=\"data row8 col13\" >0</td>\n",
       "      <td id=\"T_a52fb_row8_col14\" class=\"data row8 col14\" >B1008</td>\n",
       "      <td id=\"T_a52fb_row8_col15\" class=\"data row8 col15\" >-80.577366</td>\n",
       "      <td id=\"T_a52fb_row8_col16\" class=\"data row8 col16\" >28.561857</td>\n",
       "    </tr>\n",
       "    <tr>\n",
       "      <th id=\"T_a52fb_level0_row9\" class=\"row_heading level0 row9\" >9</th>\n",
       "      <td id=\"T_a52fb_row9_col0\" class=\"data row9 col0\" >10</td>\n",
       "      <td id=\"T_a52fb_row9_col1\" class=\"data row9 col1\" >2014-09-07</td>\n",
       "      <td id=\"T_a52fb_row9_col2\" class=\"data row9 col2\" >Falcon 9</td>\n",
       "      <td id=\"T_a52fb_row9_col3\" class=\"data row9 col3\" >4428.000000</td>\n",
       "      <td id=\"T_a52fb_row9_col4\" class=\"data row9 col4\" >GTO</td>\n",
       "      <td id=\"T_a52fb_row9_col5\" class=\"data row9 col5\" >CCAFS SLC 40</td>\n",
       "      <td id=\"T_a52fb_row9_col6\" class=\"data row9 col6\" >None None</td>\n",
       "      <td id=\"T_a52fb_row9_col7\" class=\"data row9 col7\" >1</td>\n",
       "      <td id=\"T_a52fb_row9_col8\" class=\"data row9 col8\" >False</td>\n",
       "      <td id=\"T_a52fb_row9_col9\" class=\"data row9 col9\" >False</td>\n",
       "      <td id=\"T_a52fb_row9_col10\" class=\"data row9 col10\" >False</td>\n",
       "      <td id=\"T_a52fb_row9_col11\" class=\"data row9 col11\" >nan</td>\n",
       "      <td id=\"T_a52fb_row9_col12\" class=\"data row9 col12\" >1.000000</td>\n",
       "      <td id=\"T_a52fb_row9_col13\" class=\"data row9 col13\" >0</td>\n",
       "      <td id=\"T_a52fb_row9_col14\" class=\"data row9 col14\" >B1011</td>\n",
       "      <td id=\"T_a52fb_row9_col15\" class=\"data row9 col15\" >-80.577366</td>\n",
       "      <td id=\"T_a52fb_row9_col16\" class=\"data row9 col16\" >28.561857</td>\n",
       "    </tr>\n",
       "  </tbody>\n",
       "</table>\n"
      ],
      "text/plain": [
       "<pandas.io.formats.style.Styler at 0x6b637700>"
      ]
     },
     "execution_count": 4,
     "metadata": {},
     "output_type": "execute_result"
    }
   ],
   "source": [
    "df=pd.read_csv(\"https://cf-courses-data.s3.us.cloud-object-storage.appdomain.cloud/IBM-DS0321EN-SkillsNetwork/datasets/dataset_part_1.csv\")\n",
    "render(df.head(10))"
   ]
  },
  {
   "cell_type": "markdown",
   "metadata": {},
   "source": [
    "Identify and calculate the percentage of the missing values in each attribute\n"
   ]
  },
  {
   "cell_type": "code",
   "execution_count": 5,
   "metadata": {},
   "outputs": [
    {
     "data": {
      "text/plain": [
       "FlightNumber       0.000\n",
       "Date               0.000\n",
       "BoosterVersion     0.000\n",
       "PayloadMass        0.000\n",
       "Orbit              0.000\n",
       "LaunchSite         0.000\n",
       "Outcome            0.000\n",
       "Flights            0.000\n",
       "GridFins           0.000\n",
       "Reused             0.000\n",
       "Legs               0.000\n",
       "LandingPad        40.625\n",
       "Block              0.000\n",
       "ReusedCount        0.000\n",
       "Serial             0.000\n",
       "Longitude          0.000\n",
       "Latitude           0.000\n",
       "dtype: float64"
      ]
     },
     "execution_count": 5,
     "metadata": {},
     "output_type": "execute_result"
    }
   ],
   "source": [
    "df.isnull().sum()/df.count()*100"
   ]
  },
  {
   "cell_type": "markdown",
   "metadata": {},
   "source": [
    "Identify which columns are numerical and categorical:\n"
   ]
  },
  {
   "cell_type": "code",
   "execution_count": 6,
   "metadata": {},
   "outputs": [
    {
     "data": {
      "text/plain": [
       "FlightNumber        int64\n",
       "Date               object\n",
       "BoosterVersion     object\n",
       "PayloadMass       float64\n",
       "Orbit              object\n",
       "LaunchSite         object\n",
       "Outcome            object\n",
       "Flights             int64\n",
       "GridFins             bool\n",
       "Reused               bool\n",
       "Legs                 bool\n",
       "LandingPad         object\n",
       "Block             float64\n",
       "ReusedCount         int64\n",
       "Serial             object\n",
       "Longitude         float64\n",
       "Latitude          float64\n",
       "dtype: object"
      ]
     },
     "execution_count": 6,
     "metadata": {},
     "output_type": "execute_result"
    }
   ],
   "source": [
    "df.dtypes"
   ]
  },
  {
   "cell_type": "markdown",
   "metadata": {},
   "source": [
    "### TASK 1: Calculate the number of launches on each site\n",
    "\n",
    "The data contains several Space X  launch facilities: <a href='https://en.wikipedia.org/wiki/List_of_Cape_Canaveral_and_Merritt_Island_launch_sites?utm_medium=Exinfluencer&utm_source=Exinfluencer&utm_content=000026UJ&utm_term=10006555&utm_id=NA-SkillsNetwork-Channel-SkillsNetworkCoursesIBMDS0321ENSkillsNetwork26802033-2021-01-01'>Cape Canaveral Space</a> Launch Complex 40  <b>VAFB SLC 4E </b> , Vandenberg Air Force Base Space Launch Complex 4E <b>(SLC-4E)</b>, Kennedy Space Center Launch Complex 39A <b>KSC LC 39A </b>.The location of each Launch Is placed in the column <code>LaunchSite</code>\n"
   ]
  },
  {
   "cell_type": "markdown",
   "metadata": {},
   "source": [
    "Next, let's see the number of launches for each site.\n",
    "\n",
    "Use the method  <code>value_counts()</code> on the column <code>LaunchSite</code> to determine the number of launches  on each site:\n"
   ]
  },
  {
   "cell_type": "code",
   "execution_count": 7,
   "metadata": {},
   "outputs": [
    {
     "data": {
      "text/plain": [
       "CCAFS SLC 40    55\n",
       "KSC LC 39A      22\n",
       "VAFB SLC 4E     13\n",
       "Name: LaunchSite, dtype: int64"
      ]
     },
     "execution_count": 7,
     "metadata": {},
     "output_type": "execute_result"
    }
   ],
   "source": [
    "# Apply value_counts() on column LaunchSite\n",
    "df['LaunchSite'].value_counts()"
   ]
  },
  {
   "cell_type": "markdown",
   "metadata": {},
   "source": [
    "Each launch aims to an dedicated orbit, and here are some common orbit types:\n"
   ]
  },
  {
   "cell_type": "markdown",
   "metadata": {},
   "source": [
    "*   <b>LEO</b>: Low Earth orbit (LEO)is an Earth-centred orbit with an altitude of 2,000 km (1,200 mi) or less (approximately one-third of the radius of Earth),\\[1] or with at least 11.25 periods per day (an orbital period of 128 minutes or less) and an eccentricity less than 0.25.\\[2] Most of the manmade objects in outer space are in LEO <a href='https://en.wikipedia.org/wiki/Low_Earth_orbit?utm_medium=Exinfluencer&utm_source=Exinfluencer&utm_content=000026UJ&utm_term=10006555&utm_id=NA-SkillsNetwork-Channel-SkillsNetworkCoursesIBMDS0321ENSkillsNetwork26802033-2021-01-01'>\\[1]</a>.\n",
    "\n",
    "*   <b>VLEO</b>: Very Low Earth Orbits (VLEO) can be defined as the orbits with a mean altitude below 450 km. Operating in these orbits can provide a number of benefits to Earth observation spacecraft as the spacecraft operates closer to the observation<a href='https://www.researchgate.net/publication/271499606_Very_Low_Earth_Orbit_mission_concepts_for_Earth_Observation_Benefits_and_challenges?utm_medium=Exinfluencer&utm_source=Exinfluencer&utm_content=000026UJ&utm_term=10006555&utm_id=NA-SkillsNetwork-Channel-SkillsNetworkCoursesIBMDS0321ENSkillsNetwork26802033-2021-01-01'>\\[2]</a>.\n",
    "\n",
    "*   <b>GTO</b> A geosynchronous orbit is a high Earth orbit that allows satellites to match Earth's rotation. Located at 22,236 miles (35,786 kilometers) above Earth's equator, this position is a valuable spot for monitoring weather, communications and surveillance. Because the satellite orbits at the same speed that the Earth is turning, the satellite seems to stay in place over a single longitude, though it may drift north to south,” NASA wrote on its Earth Observatory website <a  href=\"https://www.space.com/29222-geosynchronous-orbit.html?utm_medium=Exinfluencer&utm_source=Exinfluencer&utm_content=000026UJ&utm_term=10006555&utm_id=NA-SkillsNetwork-Channel-SkillsNetworkCoursesIBMDS0321ENSkillsNetwork26802033-2021-01-01\" >\\[3] </a>.\n",
    "\n",
    "*   <b>SSO (or SO)</b>: It is a Sun-synchronous orbit  also called a heliosynchronous orbit is a nearly polar orbit around a planet, in which the satellite passes over any given point of the planet's surface at the same local mean solar time <a href=\"https://en.wikipedia.org/wiki/Sun-synchronous_orbit?utm_medium=Exinfluencer&utm_source=Exinfluencer&utm_content=000026UJ&utm_term=10006555&utm_id=NA-SkillsNetwork-Channel-SkillsNetworkCoursesIBMDS0321ENSkillsNetwork26802033-2021-01-01\">\\[4] <a>.\n",
    "\n",
    "*   <b>ES-L1 </b>:At the Lagrange points the gravitational forces of the two large bodies cancel out in such a way that a small object placed in orbit there is in equilibrium relative to the center of mass of the large bodies. L1 is one such point between the sun and the earth <a href=\"https://en.wikipedia.org/wiki/Lagrange_point?utm_medium=Exinfluencer&utm_source=Exinfluencer&utm_content=000026UJ&utm_term=10006555&utm_id=NA-SkillsNetwork-Channel-SkillsNetworkCoursesIBMDS0321ENSkillsNetwork26802033-2021-01-01#L1_point\">\\[5]</a> .\n",
    "\n",
    "*   <b>HEO</b> A highly elliptical orbit, is an elliptic orbit with high eccentricity, usually referring to one around Earth <a href=\"https://en.wikipedia.org/wiki/Highly_elliptical_orbit?utm_medium=Exinfluencer&utm_source=Exinfluencer&utm_content=000026UJ&utm_term=10006555&utm_id=NA-SkillsNetwork-Channel-SkillsNetworkCoursesIBMDS0321ENSkillsNetwork26802033-2021-01-01\">\\[6]</a>.\n",
    "\n",
    "*   <b> ISS </b> A modular space station (habitable artificial satellite) in low Earth orbit. It is a multinational collaborative project between five participating space agencies: NASA (United States), Roscosmos (Russia), JAXA (Japan), ESA (Europe), and CSA (Canada)<a href=\"https://en.wikipedia.org/wiki/International_Space_Station?utm_medium=Exinfluencer&utm_source=Exinfluencer&utm_content=000026UJ&utm_term=10006555&utm_id=NA-SkillsNetwork-Channel-SkillsNetworkCoursesIBMDS0321ENSkillsNetwork26802033-2021-01-01\"> \\[7] </a>\n",
    "\n",
    "*   <b> MEO </b> Geocentric orbits ranging in altitude from 2,000 km (1,200 mi) to just below geosynchronous orbit at 35,786 kilometers (22,236 mi). Also known as an intermediate circular orbit. These are \"most commonly at 20,200 kilometers (12,600 mi), or 20,650 kilometers (12,830 mi), with an orbital period of 12 hours <a href=\"https://en.wikipedia.org/wiki/List_of_orbits?utm_medium=Exinfluencer&utm_source=Exinfluencer&utm_content=000026UJ&utm_term=10006555&utm_id=NA-SkillsNetwork-Channel-SkillsNetworkCoursesIBMDS0321ENSkillsNetwork26802033-2021-01-01\"> \\[8] </a>\n",
    "\n",
    "*   <b> HEO </b> Geocentric orbits above the altitude of geosynchronous orbit (35,786 km or 22,236 mi) <a href=\"https://en.wikipedia.org/wiki/List_of_orbits?utm_medium=Exinfluencer&utm_source=Exinfluencer&utm_content=000026UJ&utm_term=10006555&utm_id=NA-SkillsNetwork-Channel-SkillsNetworkCoursesIBMDS0321ENSkillsNetwork26802033-2021-01-01\"> \\[9] </a>\n",
    "\n",
    "*   <b> GEO </b> It is a circular geosynchronous orbit 35,786 kilometres (22,236 miles) above Earth's equator and following the direction of Earth's rotation <a href=\"https://en.wikipedia.org/wiki/Geostationary_orbit?utm_medium=Exinfluencer&utm_source=Exinfluencer&utm_content=000026UJ&utm_term=10006555&utm_id=NA-SkillsNetwork-Channel-SkillsNetworkCoursesIBMDS0321ENSkillsNetwork26802033-2021-01-01\"> \\[10] </a>\n",
    "\n",
    "*   <b> PO </b> It is one type of satellites in which a satellite passes above or nearly above both poles of the body being orbited (usually a planet such as the Earth <a href=\"https://en.wikipedia.org/wiki/Polar_orbit?utm_medium=Exinfluencer&utm_source=Exinfluencer&utm_content=000026UJ&utm_term=10006555&utm_id=NA-SkillsNetwork-Channel-SkillsNetworkCoursesIBMDS0321ENSkillsNetwork26802033-2021-01-01\"> \\[11] </a>\n",
    "\n",
    "some are shown in the following plot:\n"
   ]
  },
  {
   "cell_type": "markdown",
   "metadata": {},
   "source": [
    "![](https://cf-courses-data.s3.us.cloud-object-storage.appdomain.cloud/IBMDeveloperSkillsNetwork-DS0701EN-SkillsNetwork/api/Images/Orbits.png)\n"
   ]
  },
  {
   "cell_type": "markdown",
   "metadata": {},
   "source": [
    "### TASK 2: Calculate the number and occurrence of each orbit\n"
   ]
  },
  {
   "cell_type": "markdown",
   "metadata": {},
   "source": [
    "Use the method  <code>.value_counts()</code> to determine the number and occurrence of each orbit in the  column <code>Orbit</code>\n"
   ]
  },
  {
   "cell_type": "code",
   "execution_count": 8,
   "metadata": {},
   "outputs": [
    {
     "data": {
      "text/plain": [
       "GTO      27\n",
       "ISS      21\n",
       "VLEO     14\n",
       "PO        9\n",
       "LEO       7\n",
       "SSO       5\n",
       "MEO       3\n",
       "ES-L1     1\n",
       "HEO       1\n",
       "SO        1\n",
       "GEO       1\n",
       "Name: Orbit, dtype: int64"
      ]
     },
     "execution_count": 8,
     "metadata": {},
     "output_type": "execute_result"
    }
   ],
   "source": [
    "# Apply value_counts on Orbit column\n",
    "df['Orbit'].value_counts()"
   ]
  },
  {
   "cell_type": "markdown",
   "metadata": {},
   "source": [
    "### TASK 3: Calculate the number and occurence of mission outcome per orbit type\n"
   ]
  },
  {
   "cell_type": "markdown",
   "metadata": {},
   "source": [
    "Use the method <code>.value_counts()</code> on the column <code>Outcome</code> to determine the number of <code>landing_outcomes</code>.Then assign it to a variable landing_outcomes.\n"
   ]
  },
  {
   "cell_type": "code",
   "execution_count": 11,
   "metadata": {},
   "outputs": [
    {
     "data": {
      "text/html": [
       "<style type=\"text/css\">\n",
       "</style>\n",
       "<table id=\"T_e7f40_\" class=\"table_border\">\n",
       "  <thead>\n",
       "    <tr>\n",
       "      <th class=\"blank level0\" >&nbsp;</th>\n",
       "      <th class=\"col_heading level0 col0\" >Outcome</th>\n",
       "    </tr>\n",
       "  </thead>\n",
       "  <tbody>\n",
       "    <tr>\n",
       "      <th id=\"T_e7f40_level0_row0\" class=\"row_heading level0 row0\" >True ASDS</th>\n",
       "      <td id=\"T_e7f40_row0_col0\" class=\"data row0 col0\" >41</td>\n",
       "    </tr>\n",
       "    <tr>\n",
       "      <th id=\"T_e7f40_level0_row1\" class=\"row_heading level0 row1\" >None None</th>\n",
       "      <td id=\"T_e7f40_row1_col0\" class=\"data row1 col0\" >19</td>\n",
       "    </tr>\n",
       "    <tr>\n",
       "      <th id=\"T_e7f40_level0_row2\" class=\"row_heading level0 row2\" >True RTLS</th>\n",
       "      <td id=\"T_e7f40_row2_col0\" class=\"data row2 col0\" >14</td>\n",
       "    </tr>\n",
       "    <tr>\n",
       "      <th id=\"T_e7f40_level0_row3\" class=\"row_heading level0 row3\" >False ASDS</th>\n",
       "      <td id=\"T_e7f40_row3_col0\" class=\"data row3 col0\" >6</td>\n",
       "    </tr>\n",
       "    <tr>\n",
       "      <th id=\"T_e7f40_level0_row4\" class=\"row_heading level0 row4\" >True Ocean</th>\n",
       "      <td id=\"T_e7f40_row4_col0\" class=\"data row4 col0\" >5</td>\n",
       "    </tr>\n",
       "    <tr>\n",
       "      <th id=\"T_e7f40_level0_row5\" class=\"row_heading level0 row5\" >False Ocean</th>\n",
       "      <td id=\"T_e7f40_row5_col0\" class=\"data row5 col0\" >2</td>\n",
       "    </tr>\n",
       "    <tr>\n",
       "      <th id=\"T_e7f40_level0_row6\" class=\"row_heading level0 row6\" >None ASDS</th>\n",
       "      <td id=\"T_e7f40_row6_col0\" class=\"data row6 col0\" >2</td>\n",
       "    </tr>\n",
       "    <tr>\n",
       "      <th id=\"T_e7f40_level0_row7\" class=\"row_heading level0 row7\" >False RTLS</th>\n",
       "      <td id=\"T_e7f40_row7_col0\" class=\"data row7 col0\" >1</td>\n",
       "    </tr>\n",
       "  </tbody>\n",
       "</table>\n"
      ],
      "text/plain": [
       "<pandas.io.formats.style.Styler at 0x6a6a2a60>"
      ]
     },
     "execution_count": 11,
     "metadata": {},
     "output_type": "execute_result"
    }
   ],
   "source": [
    "# landing_outcomes = values on Outcome column\n",
    "landing_outcomes = df['Outcome'].value_counts()\n",
    "render(landing_outcomes)"
   ]
  },
  {
   "cell_type": "markdown",
   "metadata": {},
   "source": [
    "<code>True Ocean</code> means the mission outcome was successfully  landed to a specific region of the ocean while <code>False Ocean</code> means the mission outcome was unsuccessfully landed to a specific region of the ocean. <code>True RTLS</code> means the mission outcome was successfully  landed to a ground pad <code>False RTLS</code> means the mission outcome was unsuccessfully landed to a ground pad.<code>True ASDS</code> means the mission outcome was successfully  landed to a drone ship <code>False ASDS</code> means the mission outcome was unsuccessfully landed to a drone ship. <code>None ASDS</code> and <code>None None</code> these represent a failure to land.\n"
   ]
  },
  {
   "cell_type": "code",
   "execution_count": 10,
   "metadata": {},
   "outputs": [
    {
     "name": "stdout",
     "output_type": "stream",
     "text": [
      "0 True ASDS\n",
      "1 None None\n",
      "2 True RTLS\n",
      "3 False ASDS\n",
      "4 True Ocean\n",
      "5 False Ocean\n",
      "6 None ASDS\n",
      "7 False RTLS\n"
     ]
    }
   ],
   "source": [
    "for i,outcome in enumerate(landing_outcomes.keys()):\n",
    "    print(i,outcome)"
   ]
  },
  {
   "cell_type": "markdown",
   "metadata": {},
   "source": [
    "We create a set of outcomes where the second stage did not land successfully:\n"
   ]
  },
  {
   "cell_type": "code",
   "execution_count": 12,
   "metadata": {},
   "outputs": [
    {
     "data": {
      "text/plain": [
       "{'False ASDS', 'False Ocean', 'False RTLS', 'None ASDS', 'None None'}"
      ]
     },
     "execution_count": 12,
     "metadata": {},
     "output_type": "execute_result"
    }
   ],
   "source": [
    "bad_outcomes=set(landing_outcomes.keys()[[1,3,5,6,7]])\n",
    "bad_outcomes"
   ]
  },
  {
   "cell_type": "markdown",
   "metadata": {},
   "source": [
    "### TASK 4: Create a landing outcome label from Outcome column\n"
   ]
  },
  {
   "cell_type": "markdown",
   "metadata": {},
   "source": [
    "Using the <code>Outcome</code>,  create a list where the element is zero if the corresponding  row  in  <code>Outcome</code> is in the set <code>bad_outcome</code>; otherwise, it's one. Then assign it to the variable <code>landing_class</code>:\n"
   ]
  },
  {
   "cell_type": "code",
   "execution_count": 13,
   "metadata": {},
   "outputs": [],
   "source": [
    "# landing_class = 0 if bad_outcome\n",
    "# landing_class = 1 otherwise\n",
    "landing_class = []\n",
    "for outcome in df['Outcome']:\n",
    "    if outcome in bad_outcomes:\n",
    "        landing_class.append(0)\n",
    "    else:\n",
    "        landing_class.append(1)"
   ]
  },
  {
   "cell_type": "markdown",
   "metadata": {},
   "source": [
    "This variable will represent the classification variable that represents the outcome of each launch. If the value is zero, the  first stage did not land successfully; one means  the first stage landed Successfully\n"
   ]
  },
  {
   "cell_type": "code",
   "execution_count": 20,
   "metadata": {},
   "outputs": [
    {
     "data": {
      "text/plain": [
       "30"
      ]
     },
     "execution_count": 20,
     "metadata": {},
     "output_type": "execute_result"
    }
   ],
   "source": [
    "df['Class']=landing_class\n",
    "df[['Class']].head(8)\n",
    "df[df['Class'] == 0]['Class'].count()"
   ]
  },
  {
   "cell_type": "code",
   "execution_count": 15,
   "metadata": {},
   "outputs": [
    {
     "data": {
      "text/html": [
       "<div>\n",
       "<style scoped>\n",
       "    .dataframe tbody tr th:only-of-type {\n",
       "        vertical-align: middle;\n",
       "    }\n",
       "\n",
       "    .dataframe tbody tr th {\n",
       "        vertical-align: top;\n",
       "    }\n",
       "\n",
       "    .dataframe thead th {\n",
       "        text-align: right;\n",
       "    }\n",
       "</style>\n",
       "<table border=\"1\" class=\"dataframe\">\n",
       "  <thead>\n",
       "    <tr style=\"text-align: right;\">\n",
       "      <th></th>\n",
       "      <th>FlightNumber</th>\n",
       "      <th>Date</th>\n",
       "      <th>BoosterVersion</th>\n",
       "      <th>PayloadMass</th>\n",
       "      <th>Orbit</th>\n",
       "      <th>LaunchSite</th>\n",
       "      <th>Outcome</th>\n",
       "      <th>Flights</th>\n",
       "      <th>GridFins</th>\n",
       "      <th>Reused</th>\n",
       "      <th>Legs</th>\n",
       "      <th>LandingPad</th>\n",
       "      <th>Block</th>\n",
       "      <th>ReusedCount</th>\n",
       "      <th>Serial</th>\n",
       "      <th>Longitude</th>\n",
       "      <th>Latitude</th>\n",
       "      <th>Class</th>\n",
       "    </tr>\n",
       "  </thead>\n",
       "  <tbody>\n",
       "    <tr>\n",
       "      <th>0</th>\n",
       "      <td>1</td>\n",
       "      <td>2010-06-04</td>\n",
       "      <td>Falcon 9</td>\n",
       "      <td>6104.959412</td>\n",
       "      <td>LEO</td>\n",
       "      <td>CCAFS SLC 40</td>\n",
       "      <td>None None</td>\n",
       "      <td>1</td>\n",
       "      <td>False</td>\n",
       "      <td>False</td>\n",
       "      <td>False</td>\n",
       "      <td>NaN</td>\n",
       "      <td>1.0</td>\n",
       "      <td>0</td>\n",
       "      <td>B0003</td>\n",
       "      <td>-80.577366</td>\n",
       "      <td>28.561857</td>\n",
       "      <td>0</td>\n",
       "    </tr>\n",
       "    <tr>\n",
       "      <th>1</th>\n",
       "      <td>2</td>\n",
       "      <td>2012-05-22</td>\n",
       "      <td>Falcon 9</td>\n",
       "      <td>525.000000</td>\n",
       "      <td>LEO</td>\n",
       "      <td>CCAFS SLC 40</td>\n",
       "      <td>None None</td>\n",
       "      <td>1</td>\n",
       "      <td>False</td>\n",
       "      <td>False</td>\n",
       "      <td>False</td>\n",
       "      <td>NaN</td>\n",
       "      <td>1.0</td>\n",
       "      <td>0</td>\n",
       "      <td>B0005</td>\n",
       "      <td>-80.577366</td>\n",
       "      <td>28.561857</td>\n",
       "      <td>0</td>\n",
       "    </tr>\n",
       "    <tr>\n",
       "      <th>2</th>\n",
       "      <td>3</td>\n",
       "      <td>2013-03-01</td>\n",
       "      <td>Falcon 9</td>\n",
       "      <td>677.000000</td>\n",
       "      <td>ISS</td>\n",
       "      <td>CCAFS SLC 40</td>\n",
       "      <td>None None</td>\n",
       "      <td>1</td>\n",
       "      <td>False</td>\n",
       "      <td>False</td>\n",
       "      <td>False</td>\n",
       "      <td>NaN</td>\n",
       "      <td>1.0</td>\n",
       "      <td>0</td>\n",
       "      <td>B0007</td>\n",
       "      <td>-80.577366</td>\n",
       "      <td>28.561857</td>\n",
       "      <td>0</td>\n",
       "    </tr>\n",
       "    <tr>\n",
       "      <th>3</th>\n",
       "      <td>4</td>\n",
       "      <td>2013-09-29</td>\n",
       "      <td>Falcon 9</td>\n",
       "      <td>500.000000</td>\n",
       "      <td>PO</td>\n",
       "      <td>VAFB SLC 4E</td>\n",
       "      <td>False Ocean</td>\n",
       "      <td>1</td>\n",
       "      <td>False</td>\n",
       "      <td>False</td>\n",
       "      <td>False</td>\n",
       "      <td>NaN</td>\n",
       "      <td>1.0</td>\n",
       "      <td>0</td>\n",
       "      <td>B1003</td>\n",
       "      <td>-120.610829</td>\n",
       "      <td>34.632093</td>\n",
       "      <td>0</td>\n",
       "    </tr>\n",
       "    <tr>\n",
       "      <th>4</th>\n",
       "      <td>5</td>\n",
       "      <td>2013-12-03</td>\n",
       "      <td>Falcon 9</td>\n",
       "      <td>3170.000000</td>\n",
       "      <td>GTO</td>\n",
       "      <td>CCAFS SLC 40</td>\n",
       "      <td>None None</td>\n",
       "      <td>1</td>\n",
       "      <td>False</td>\n",
       "      <td>False</td>\n",
       "      <td>False</td>\n",
       "      <td>NaN</td>\n",
       "      <td>1.0</td>\n",
       "      <td>0</td>\n",
       "      <td>B1004</td>\n",
       "      <td>-80.577366</td>\n",
       "      <td>28.561857</td>\n",
       "      <td>0</td>\n",
       "    </tr>\n",
       "  </tbody>\n",
       "</table>\n",
       "</div>"
      ],
      "text/plain": [
       "   FlightNumber        Date BoosterVersion  PayloadMass Orbit    LaunchSite  \\\n",
       "0             1  2010-06-04       Falcon 9  6104.959412   LEO  CCAFS SLC 40   \n",
       "1             2  2012-05-22       Falcon 9   525.000000   LEO  CCAFS SLC 40   \n",
       "2             3  2013-03-01       Falcon 9   677.000000   ISS  CCAFS SLC 40   \n",
       "3             4  2013-09-29       Falcon 9   500.000000    PO   VAFB SLC 4E   \n",
       "4             5  2013-12-03       Falcon 9  3170.000000   GTO  CCAFS SLC 40   \n",
       "\n",
       "       Outcome  Flights  GridFins  Reused   Legs LandingPad  Block  \\\n",
       "0    None None        1     False   False  False        NaN    1.0   \n",
       "1    None None        1     False   False  False        NaN    1.0   \n",
       "2    None None        1     False   False  False        NaN    1.0   \n",
       "3  False Ocean        1     False   False  False        NaN    1.0   \n",
       "4    None None        1     False   False  False        NaN    1.0   \n",
       "\n",
       "   ReusedCount Serial   Longitude   Latitude  Class  \n",
       "0            0  B0003  -80.577366  28.561857      0  \n",
       "1            0  B0005  -80.577366  28.561857      0  \n",
       "2            0  B0007  -80.577366  28.561857      0  \n",
       "3            0  B1003 -120.610829  34.632093      0  \n",
       "4            0  B1004  -80.577366  28.561857      0  "
      ]
     },
     "execution_count": 15,
     "metadata": {},
     "output_type": "execute_result"
    }
   ],
   "source": [
    "df.head(5)"
   ]
  },
  {
   "cell_type": "markdown",
   "metadata": {},
   "source": [
    "We can use the following line of code to determine  the success rate:\n"
   ]
  },
  {
   "cell_type": "code",
   "execution_count": 18,
   "metadata": {},
   "outputs": [
    {
     "name": "stdout",
     "output_type": "stream",
     "text": [
      "0.6666666666666666\n"
     ]
    }
   ],
   "source": [
    "print(df[\"Class\"].mean())\n",
    "#df.to_csv(\"dataset_part_2.csv\", index=False)"
   ]
  },
  {
   "cell_type": "markdown",
   "metadata": {},
   "source": [
    "We can now export it to a CSV for the next section,but to make the answers consistent, in the next lab we will provide data in a pre-selected date range.\n"
   ]
  },
  {
   "cell_type": "markdown",
   "metadata": {},
   "source": [
    "<code>df.to_csv(\"dataset_part\\_2.csv\", index=False)</code>\n"
   ]
  },
  {
   "cell_type": "markdown",
   "metadata": {},
   "source": [
    "## Authors\n"
   ]
  },
  {
   "cell_type": "markdown",
   "metadata": {},
   "source": [
    "<a href=\"https://www.linkedin.com/in/joseph-s-50398b136/?utm_medium=Exinfluencer&utm_source=Exinfluencer&utm_content=000026UJ&utm_term=10006555&utm_id=NA-SkillsNetwork-Channel-SkillsNetworkCoursesIBMDS0321ENSkillsNetwork26802033-2021-01-01\">Joseph Santarcangelo</a> has a PhD in Electrical Engineering, his research focused on using machine learning, signal processing, and computer vision to determine how videos impact human cognition. Joseph has been working for IBM since he completed his PhD.\n"
   ]
  },
  {
   "cell_type": "markdown",
   "metadata": {},
   "source": [
    "<a href=\"https://www.linkedin.com/in/nayefaboutayoun/?utm_medium=Exinfluencer&utm_source=Exinfluencer&utm_content=000026UJ&utm_term=10006555&utm_id=NA-SkillsNetwork-Channel-SkillsNetworkCoursesIBMDS0321ENSkillsNetwork26802033-2021-01-01\">Nayef Abou Tayoun</a> is a Data Scientist at IBM and pursuing a Master of Management in Artificial intelligence degree at Queen's University.\n"
   ]
  },
  {
   "cell_type": "markdown",
   "metadata": {},
   "source": [
    "## Change Log\n"
   ]
  },
  {
   "cell_type": "markdown",
   "metadata": {},
   "source": [
    "| Date (YYYY-MM-DD) | Version | Changed By    | Change Description      |\n",
    "| ----------------- | ------- | ------------- | ----------------------- |\n",
    "| 2021-08-31        | 1.1     | Lakshmi Holla | Changed Markdown        |\n",
    "| 2020-09-20        | 1.0     | Joseph        | Modified Multiple Areas |\n",
    "| 2020-11-04        | 1.1.    | Nayef         | updating the input data |\n",
    "| 2021-05-026       | 1.1.    | Joseph        | updating the input data |\n"
   ]
  },
  {
   "cell_type": "markdown",
   "metadata": {},
   "source": [
    "Copyright © 2021 IBM Corporation. All rights reserved.\n"
   ]
  }
 ],
 "metadata": {
  "hide_input": false,
  "kernelspec": {
   "display_name": "Python 3 (ipykernel)",
   "language": "python",
   "name": "python3"
  },
  "language_info": {
   "codemirror_mode": {
    "name": "ipython",
    "version": 3
   },
   "file_extension": ".py",
   "mimetype": "text/x-python",
   "name": "python",
   "nbconvert_exporter": "python",
   "pygments_lexer": "ipython3",
   "version": "3.9.2"
  },
  "varInspector": {
   "cols": {
    "lenName": 16,
    "lenType": 16,
    "lenVar": 40
   },
   "kernels_config": {
    "python": {
     "delete_cmd_postfix": "",
     "delete_cmd_prefix": "del ",
     "library": "var_list.py",
     "varRefreshCmd": "print(var_dic_list())"
    },
    "r": {
     "delete_cmd_postfix": ") ",
     "delete_cmd_prefix": "rm(",
     "library": "var_list.r",
     "varRefreshCmd": "cat(var_dic_list()) "
    }
   },
   "types_to_exclude": [
    "module",
    "function",
    "builtin_function_or_method",
    "instance",
    "_Feature"
   ],
   "window_display": false
  }
 },
 "nbformat": 4,
 "nbformat_minor": 4
}
